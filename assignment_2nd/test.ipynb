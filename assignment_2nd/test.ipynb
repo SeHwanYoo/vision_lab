{
 "cells": [
  {
   "cell_type": "code",
   "execution_count": 9,
   "metadata": {},
   "outputs": [
    {
     "data": {
      "text/plain": [
       "(torch.Size([3, 3]),\n",
       " tensor([[0.1000, 0.2000, 0.7000],\n",
       "         [0.8000, 0.1000, 0.1000],\n",
       "         [0.3300, 0.3300, 0.3400]]))"
      ]
     },
     "execution_count": 9,
     "metadata": {},
     "output_type": "execute_result"
    }
   ],
   "source": [
    "import torch\n",
    "import torch.nn.functional as F\n",
    "\n",
    "# 예제 데이터 (모델 출력)\n",
    "example_outputs = torch.tensor([[0.1, 0.2, 0.7], [0.8, 0.1, 0.1], [0.33, 0.33, 0.34]])\n",
    "example_outputs.shape, example_outputs"
   ]
  },
  {
   "cell_type": "code",
   "execution_count": 5,
   "metadata": {},
   "outputs": [
    {
     "data": {
      "text/plain": [
       "tensor([[0.2546, 0.2814, 0.4640],\n",
       "        [0.5017, 0.2491, 0.2491],\n",
       "        [0.3322, 0.3322, 0.3356]])"
      ]
     },
     "execution_count": 5,
     "metadata": {},
     "output_type": "execute_result"
    }
   ],
   "source": [
    "\n",
    "# Softmax 확률 계산\n",
    "probabilities = F.softmax(example_outputs, dim=1)\n",
    "probabilities"
   ]
  },
  {
   "cell_type": "code",
   "execution_count": 10,
   "metadata": {},
   "outputs": [
    {
     "data": {
      "text/plain": [
       "1.0"
      ]
     },
     "execution_count": 10,
     "metadata": {},
     "output_type": "execute_result"
    }
   ],
   "source": [
    "0.2546 + 0.2814 + 0.4640"
   ]
  },
  {
   "cell_type": "code",
   "execution_count": 6,
   "metadata": {},
   "outputs": [
    {
     "data": {
      "text/plain": [
       "tensor([[-1.3679, -1.2679, -0.7679],\n",
       "        [-0.6897, -1.3897, -1.3897],\n",
       "        [-1.1019, -1.1019, -1.0919]])"
      ]
     },
     "execution_count": 6,
     "metadata": {},
     "output_type": "execute_result"
    }
   ],
   "source": [
    "# 로그 확률 계산\n",
    "log_probabilities = torch.log(probabilities + 1e-5)\n",
    "\n",
    "log_probabilities"
   ]
  },
  {
   "cell_type": "code",
   "execution_count": 7,
   "metadata": {},
   "outputs": [
    {
     "data": {
      "text/plain": [
       "tensor(1.0662)"
      ]
     },
     "execution_count": 7,
     "metadata": {},
     "output_type": "execute_result"
    }
   ],
   "source": [
    "# 엔트로피 손실 계산\n",
    "entropy_loss = -torch.mean(torch.sum(probabilities * log_probabilities, dim=1))\n",
    "entropy_loss"
   ]
  },
  {
   "cell_type": "code",
   "execution_count": null,
   "metadata": {},
   "outputs": [],
   "source": []
  }
 ],
 "metadata": {
  "kernelspec": {
   "display_name": "torch_conda",
   "language": "python",
   "name": "python3"
  },
  "language_info": {
   "codemirror_mode": {
    "name": "ipython",
    "version": 3
   },
   "file_extension": ".py",
   "mimetype": "text/x-python",
   "name": "python",
   "nbconvert_exporter": "python",
   "pygments_lexer": "ipython3",
   "version": "3.11.5"
  }
 },
 "nbformat": 4,
 "nbformat_minor": 2
}
